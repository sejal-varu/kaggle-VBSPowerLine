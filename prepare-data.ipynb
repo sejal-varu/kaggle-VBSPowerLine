{
 "cells": [
  {
   "cell_type": "code",
   "execution_count": 1,
   "metadata": {
    "_cell_guid": "b1076dfc-b9ad-4769-8c92-a6c4dae69d19",
    "_uuid": "8f2839f25d086af736a60e9eeb907d3b93b6e0e5"
   },
   "outputs": [
    {
     "name": "stdout",
     "output_type": "stream",
     "text": [
      "['test.parquet', 'metadata_train.csv', 'sample_submission.csv', 'train.parquet', 'metadata_test.csv']\n"
     ]
    }
   ],
   "source": [
    "# This Python 3 environment comes with many helpful analytics libraries installed\n",
    "# It is defined by the kaggle/python docker image: https://github.com/kaggle/docker-python\n",
    "# For example, here's several helpful packages to load in \n",
    "\n",
    "import numpy as np # linear algebra\n",
    "import pandas as pd # data processing, CSV file I/O (e.g. pd.read_csv)\n",
    "import pyarrow.parquet as pq\n",
    "import gc\n",
    "# Input data files are available in the \"../input/\" directory.\n",
    "# For example, running this (by clicking run or pressing Shift+Enter) will list the files in the input directory\n",
    "\n",
    "import os\n",
    "print(os.listdir(\"../input\"))\n",
    "# Any results you write to the current directory are saved as output."
   ]
  },
  {
   "cell_type": "code",
   "execution_count": 2,
   "metadata": {
    "_uuid": "a9194e1542ba7cd8f40830fad014252b216d0150"
   },
   "outputs": [],
   "source": [
    "# print ([str(i) for i in range(len(meta_train)) if i % 5 != 0])"
   ]
  },
  {
   "cell_type": "code",
   "execution_count": 3,
   "metadata": {
    "_uuid": "8370d09fe68bfe761ad08492fc17a12e1eb37cd4"
   },
   "outputs": [
    {
     "data": {
      "text/plain": [
       "(8712, 4)"
      ]
     },
     "execution_count": 3,
     "metadata": {},
     "output_type": "execute_result"
    }
   ],
   "source": [
    "meta_train = pd.read_csv('../input/metadata_train.csv')\n",
    "meta_train.shape"
   ]
  },
  {
   "cell_type": "code",
   "execution_count": 4,
   "metadata": {
    "_uuid": "9502dc05020cbdf58de46980432ae55cd6d30d5c"
   },
   "outputs": [
    {
     "data": {
      "text/plain": [
       "0    8187\n",
       "1     525\n",
       "Name: target, dtype: int64"
      ]
     },
     "execution_count": 4,
     "metadata": {},
     "output_type": "execute_result"
    }
   ],
   "source": [
    "meta_train[\"target\"].value_counts()"
   ]
  },
  {
   "cell_type": "code",
   "execution_count": 5,
   "metadata": {
    "_uuid": "06275af11dfda1fd76cb01eab6958746be3f5b0d"
   },
   "outputs": [
    {
     "data": {
      "text/plain": [
       "8712"
      ]
     },
     "execution_count": 5,
     "metadata": {},
     "output_type": "execute_result"
    }
   ],
   "source": [
    "len(meta_train)"
   ]
  },
  {
   "cell_type": "code",
   "execution_count": 6,
   "metadata": {
    "_cell_guid": "79c7e3d0-c299-4dcb-8224-4455121ee9b0",
    "_uuid": "d629ff2d2480ee46fbb7e2d37f6b5fab8052498a"
   },
   "outputs": [
    {
     "name": "stdout",
     "output_type": "stream",
     "text": [
      "CPU times: user 43.2 s, sys: 20.8 s, total: 1min 3s\n",
      "Wall time: 1min 4s\n"
     ]
    }
   ],
   "source": [
    "%%time\n",
    "subset_train = pq.read_pandas('../input/train.parquet', columns=[str(i) for i in range(len(meta_train))]).to_pandas()"
   ]
  },
  {
   "cell_type": "code",
   "execution_count": 7,
   "metadata": {
    "_uuid": "cd55c6b5bb66f53dc256c4565ec23b2101a63a06"
   },
   "outputs": [
    {
     "data": {
      "text/plain": [
       "(800000, 8712)"
      ]
     },
     "execution_count": 7,
     "metadata": {},
     "output_type": "execute_result"
    }
   ],
   "source": [
    "subset_train.shape"
   ]
  },
  {
   "cell_type": "code",
   "execution_count": 8,
   "metadata": {
    "_uuid": "354eebeb54f2d39b901912f942a688abb004f672"
   },
   "outputs": [
    {
     "name": "stdout",
     "output_type": "stream",
     "text": [
      "(8712, 700000)\n",
      "CPU times: user 24 ms, sys: 32 ms, total: 56 ms\n",
      "Wall time: 56.3 ms\n"
     ]
    }
   ],
   "source": [
    "%%time\n",
    "subset_train = subset_train.loc[100000:].T\n",
    "print(subset_train.shape)\n"
   ]
  },
  {
   "cell_type": "code",
   "execution_count": 9,
   "metadata": {
    "_uuid": "b1b1c5c23e168aac95ae0a164a12be98fa589ba7"
   },
   "outputs": [],
   "source": [
    "# subset_train.head(2)"
   ]
  },
  {
   "cell_type": "code",
   "execution_count": 10,
   "metadata": {
    "_uuid": "68c139ec2527ab10003beaf6af066d0cb5deda87",
    "scrolled": true
   },
   "outputs": [],
   "source": [
    "# x = [print(i) for i in np.arange(1,50) if i % 5 == 0]\n",
    "# x"
   ]
  },
  {
   "cell_type": "code",
   "execution_count": 11,
   "metadata": {
    "_uuid": "1ca36dd4b8f3ba0d347d5e08ce67314b3b700d0a"
   },
   "outputs": [],
   "source": [
    "###Skip every 5th time only\n",
    "subset_train =  subset_train[[i for i in np.arange(100000,len(subset_train.columns)) if i % 5 == 0]]"
   ]
  },
  {
   "cell_type": "code",
   "execution_count": 12,
   "metadata": {
    "_uuid": "d6c23fc21eeba535bb4b8cd022e33ba2d377704f"
   },
   "outputs": [
    {
     "name": "stdout",
     "output_type": "stream",
     "text": [
      "(8712, 120000)\n"
     ]
    }
   ],
   "source": [
    "print(subset_train.shape)"
   ]
  },
  {
   "cell_type": "code",
   "execution_count": 13,
   "metadata": {
    "_uuid": "a8c4ebd13f22cffa6bb8ed753c5676e5cd727f06"
   },
   "outputs": [],
   "source": [
    "subset_train[\"idx\"] = np.arange(0, subset_train.shape[0])"
   ]
  },
  {
   "cell_type": "code",
   "execution_count": 14,
   "metadata": {
    "_uuid": "108244c921bd8938e09747271e48f4c8f8572148"
   },
   "outputs": [],
   "source": [
    "# subset_train.shape"
   ]
  },
  {
   "cell_type": "code",
   "execution_count": 15,
   "metadata": {
    "_uuid": "e1f5e25222e2b8a0feb2d54ac4b440cf9d6474a0"
   },
   "outputs": [],
   "source": [
    "# subset_train.head(2)"
   ]
  },
  {
   "cell_type": "code",
   "execution_count": 16,
   "metadata": {
    "_uuid": "e389a18adfecbec7fca22d2ef346ba65a584d5f4"
   },
   "outputs": [
    {
     "name": "stdout",
     "output_type": "stream",
     "text": [
      "CPU times: user 1.06 s, sys: 560 ms, total: 1.62 s\n",
      "Wall time: 1.61 s\n"
     ]
    }
   ],
   "source": [
    "%%time\n",
    "subset_train = pd.merge(subset_train, meta_train, left_on=\"idx\", right_on='signal_id')"
   ]
  },
  {
   "cell_type": "code",
   "execution_count": 17,
   "metadata": {
    "_uuid": "a9d08f91717fa7e36caa4f28de4b57dd12745de9",
    "scrolled": true
   },
   "outputs": [
    {
     "data": {
      "text/plain": [
       "14"
      ]
     },
     "execution_count": 17,
     "metadata": {},
     "output_type": "execute_result"
    }
   ],
   "source": [
    "gc.collect()"
   ]
  },
  {
   "cell_type": "code",
   "execution_count": 18,
   "metadata": {
    "_uuid": "01f120fa644f4528897ef022562a55c27e411633"
   },
   "outputs": [],
   "source": [
    "# subset_train.to_csv(\"merged_train.csv\", index=False)"
   ]
  },
  {
   "cell_type": "code",
   "execution_count": 19,
   "metadata": {
    "_uuid": "10c6b5946b6fabcf3024a79dfea05b9773285e94"
   },
   "outputs": [],
   "source": [
    "subset_train.to_pickle(\"merged_pckl_data\")"
   ]
  },
  {
   "cell_type": "code",
   "execution_count": 20,
   "metadata": {
    "_uuid": "f02e2e2e9b53d2143297b91fe0d510b3708b299f"
   },
   "outputs": [],
   "source": [
    "# col_list = np.arange(100000,799999).tolist()\n",
    "# print(type(col_list))"
   ]
  },
  {
   "cell_type": "code",
   "execution_count": 21,
   "metadata": {
    "_uuid": "2692300d09a5d410a1dbb6e68350f93db083a13e"
   },
   "outputs": [],
   "source": [
    "# col_list.append(\"signal_id\")\n",
    "# col_list.append(\"id_measurement\")\n",
    "# col_list.append(\"phase\")\n",
    "# col_list.append(\"target\")"
   ]
  },
  {
   "cell_type": "code",
   "execution_count": 22,
   "metadata": {
    "_uuid": "e202a52da0f7839ade56cf5328145dbef499626c"
   },
   "outputs": [],
   "source": [
    "# subset_train.to_csv(\"merged_train.csv\", index=False)"
   ]
  },
  {
   "cell_type": "code",
   "execution_count": 23,
   "metadata": {
    "_uuid": "bee2c17400198574ce09289b653da72902ea3be3"
   },
   "outputs": [],
   "source": []
  }
 ],
 "metadata": {
  "kernelspec": {
   "display_name": "Python 3",
   "language": "python",
   "name": "python3"
  },
  "language_info": {
   "codemirror_mode": {
    "name": "ipython",
    "version": 3
   },
   "file_extension": ".py",
   "mimetype": "text/x-python",
   "name": "python",
   "nbconvert_exporter": "python",
   "pygments_lexer": "ipython3",
   "version": "3.6.6"
  }
 },
 "nbformat": 4,
 "nbformat_minor": 1
}
