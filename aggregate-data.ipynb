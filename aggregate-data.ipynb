{
 "cells": [
  {
   "cell_type": "code",
   "execution_count": 1,
   "metadata": {
    "_cell_guid": "b1076dfc-b9ad-4769-8c92-a6c4dae69d19",
    "_uuid": "8f2839f25d086af736a60e9eeb907d3b93b6e0e5"
   },
   "outputs": [],
   "source": [
    "import warnings\n",
    "warnings.filterwarnings('ignore')\n",
    "\n",
    "import numpy as np\n",
    "import pandas as pd\n",
    "import pyarrow.parquet as pq\n",
    "\n",
    "import random\n",
    "random.seed(42) # The answer\n",
    " \n",
    "import os\n",
    "import sys\n",
    "import gc\n",
    "import re\n",
    "\n",
    "import matplotlib.pyplot as plt\n",
    "import seaborn as sns\n",
    "\n",
    "from tqdm import tqdm\n",
    "\n",
    "import lightgbm as lgb\n",
    "\n",
    "from sklearn.feature_extraction.text import CountVectorizer\n",
    "from sklearn.model_selection import train_test_split\n",
    "from sklearn.model_selection import StratifiedKFold, KFold, StratifiedKFold\n",
    "from sklearn import metrics"
   ]
  },
  {
   "cell_type": "code",
   "execution_count": 2,
   "metadata": {
    "_uuid": "8370d09fe68bfe761ad08492fc17a12e1eb37cd4"
   },
   "outputs": [
    {
     "data": {
      "text/plain": [
       "8712"
      ]
     },
     "execution_count": 2,
     "metadata": {},
     "output_type": "execute_result"
    }
   ],
   "source": [
    "meta_train = pd.read_csv('../input/metadata_train.csv')\n",
    "len(meta_train)"
   ]
  },
  {
   "cell_type": "code",
   "execution_count": 3,
   "metadata": {
    "_uuid": "9502dc05020cbdf58de46980432ae55cd6d30d5c"
   },
   "outputs": [],
   "source": [
    "# meta_train[\"target\"].value_counts()"
   ]
  },
  {
   "cell_type": "code",
   "execution_count": 4,
   "metadata": {
    "_uuid": "deb78fe2302493a7de5397d4e4ac8e851244524e"
   },
   "outputs": [
    {
     "data": {
      "text/html": [
       "<div>\n",
       "<style scoped>\n",
       "    .dataframe tbody tr th:only-of-type {\n",
       "        vertical-align: middle;\n",
       "    }\n",
       "\n",
       "    .dataframe tbody tr th {\n",
       "        vertical-align: top;\n",
       "    }\n",
       "\n",
       "    .dataframe thead th {\n",
       "        text-align: right;\n",
       "    }\n",
       "</style>\n",
       "<table border=\"1\" class=\"dataframe\">\n",
       "  <thead>\n",
       "    <tr style=\"text-align: right;\">\n",
       "      <th></th>\n",
       "      <th>signal_id</th>\n",
       "      <th>id_measurement</th>\n",
       "      <th>phase</th>\n",
       "      <th>target</th>\n",
       "    </tr>\n",
       "  </thead>\n",
       "  <tbody>\n",
       "    <tr>\n",
       "      <th>8707</th>\n",
       "      <td>8707</td>\n",
       "      <td>2902</td>\n",
       "      <td>1</td>\n",
       "      <td>0</td>\n",
       "    </tr>\n",
       "    <tr>\n",
       "      <th>8708</th>\n",
       "      <td>8708</td>\n",
       "      <td>2902</td>\n",
       "      <td>2</td>\n",
       "      <td>0</td>\n",
       "    </tr>\n",
       "    <tr>\n",
       "      <th>8709</th>\n",
       "      <td>8709</td>\n",
       "      <td>2903</td>\n",
       "      <td>0</td>\n",
       "      <td>0</td>\n",
       "    </tr>\n",
       "    <tr>\n",
       "      <th>8710</th>\n",
       "      <td>8710</td>\n",
       "      <td>2903</td>\n",
       "      <td>1</td>\n",
       "      <td>0</td>\n",
       "    </tr>\n",
       "    <tr>\n",
       "      <th>8711</th>\n",
       "      <td>8711</td>\n",
       "      <td>2903</td>\n",
       "      <td>2</td>\n",
       "      <td>0</td>\n",
       "    </tr>\n",
       "  </tbody>\n",
       "</table>\n",
       "</div>"
      ],
      "text/plain": [
       "      signal_id  id_measurement  phase  target\n",
       "8707       8707            2902      1       0\n",
       "8708       8708            2902      2       0\n",
       "8709       8709            2903      0       0\n",
       "8710       8710            2903      1       0\n",
       "8711       8711            2903      2       0"
      ]
     },
     "execution_count": 4,
     "metadata": {},
     "output_type": "execute_result"
    }
   ],
   "source": [
    "meta_train.tail()\n",
    "# np.range(8712,20336)"
   ]
  },
  {
   "cell_type": "code",
   "execution_count": 5,
   "metadata": {
    "_uuid": "06275af11dfda1fd76cb01eab6958746be3f5b0d"
   },
   "outputs": [
    {
     "data": {
      "text/plain": [
       "8712"
      ]
     },
     "execution_count": 5,
     "metadata": {},
     "output_type": "execute_result"
    }
   ],
   "source": [
    "len(meta_train)"
   ]
  },
  {
   "cell_type": "code",
   "execution_count": 6,
   "metadata": {
    "_cell_guid": "79c7e3d0-c299-4dcb-8224-4455121ee9b0",
    "_uuid": "d629ff2d2480ee46fbb7e2d37f6b5fab8052498a"
   },
   "outputs": [
    {
     "name": "stdout",
     "output_type": "stream",
     "text": [
      "CPU times: user 40.6 s, sys: 16 s, total: 56.6 s\n",
      "Wall time: 57.2 s\n"
     ]
    }
   ],
   "source": [
    "%%time\n",
    "subset_train = pq.read_pandas('../input/train.parquet', columns=[str(i) for i in range(len(meta_train))]).to_pandas()"
   ]
  },
  {
   "cell_type": "code",
   "execution_count": 7,
   "metadata": {
    "_uuid": "cd55c6b5bb66f53dc256c4565ec23b2101a63a06"
   },
   "outputs": [
    {
     "data": {
      "text/plain": [
       "(800000, 8712)"
      ]
     },
     "execution_count": 7,
     "metadata": {},
     "output_type": "execute_result"
    }
   ],
   "source": [
    "subset_train.shape"
   ]
  },
  {
   "cell_type": "code",
   "execution_count": 8,
   "metadata": {
    "_uuid": "354eebeb54f2d39b901912f942a688abb004f672"
   },
   "outputs": [
    {
     "name": "stdout",
     "output_type": "stream",
     "text": [
      "positive length: 525\n",
      "train length: 976\n",
      "CPU times: user 36.6 s, sys: 4 ms, total: 36.6 s\n",
      "Wall time: 36.6 s\n"
     ]
    }
   ],
   "source": [
    "%%time\n",
    "train_length = 8712 \n",
    "positive_length = len(meta_train[meta_train['target']==1])\n",
    "train_df = pd.DataFrame()\n",
    "row_index = 0\n",
    "\n",
    "for i in range(train_length):\n",
    "    # downsampling\n",
    "    if meta_train.loc[i,'target'] == 1 or random.random() < positive_length / train_length:\n",
    "        subset_train_row = subset_train[str(i)]\n",
    "        train_df.loc[row_index, 'signal_min'] = np.min(subset_train_row)\n",
    "        train_df.loc[row_index, 'signal_max'] = np.max(subset_train_row)\n",
    "        train_df.loc[row_index, 'signal_mean'] = np.mean(subset_train_row)\n",
    "        train_df.loc[row_index, 'signal_mean_sq'] = np.mean(subset_train_row)**2\n",
    "        train_df.loc[row_index, 'signal_max_min_diff'] = np.subtract(np.max(subset_train_row),np.min(subset_train_row))\n",
    "#         train_df.loc[row_index, 'signal_median'] = np.median(subset_train_row)\n",
    "#         train_df.loc[row_index, 'signal_ptp'] = np.ptp(subset_train_row)\n",
    "        \n",
    "        train_df.loc[row_index, 'signal_id'] = i\n",
    "        row_index += 1\n",
    "        \n",
    "print(\"positive length: \" + str(positive_length))\n",
    "\n",
    "print(\"train length: \" + str(len(train_df)))"
   ]
  },
  {
   "cell_type": "code",
   "execution_count": 9,
   "metadata": {
    "_uuid": "b1b1c5c23e168aac95ae0a164a12be98fa589ba7"
   },
   "outputs": [
    {
     "data": {
      "text/html": [
       "<div>\n",
       "<style scoped>\n",
       "    .dataframe tbody tr th:only-of-type {\n",
       "        vertical-align: middle;\n",
       "    }\n",
       "\n",
       "    .dataframe tbody tr th {\n",
       "        vertical-align: top;\n",
       "    }\n",
       "\n",
       "    .dataframe thead th {\n",
       "        text-align: right;\n",
       "    }\n",
       "</style>\n",
       "<table border=\"1\" class=\"dataframe\">\n",
       "  <thead>\n",
       "    <tr style=\"text-align: right;\">\n",
       "      <th></th>\n",
       "      <th>signal_min</th>\n",
       "      <th>signal_max</th>\n",
       "      <th>signal_mean</th>\n",
       "      <th>signal_mean_sq</th>\n",
       "      <th>signal_max_min_diff</th>\n",
       "      <th>signal_id</th>\n",
       "      <th>id_measurement</th>\n",
       "      <th>phase</th>\n",
       "      <th>target</th>\n",
       "    </tr>\n",
       "  </thead>\n",
       "  <tbody>\n",
       "    <tr>\n",
       "      <th>0</th>\n",
       "      <td>-30.0</td>\n",
       "      <td>26.0</td>\n",
       "      <td>-0.194125</td>\n",
       "      <td>0.037685</td>\n",
       "      <td>56.0</td>\n",
       "      <td>1.0</td>\n",
       "      <td>0</td>\n",
       "      <td>1</td>\n",
       "      <td>0</td>\n",
       "    </tr>\n",
       "    <tr>\n",
       "      <th>1</th>\n",
       "      <td>-77.0</td>\n",
       "      <td>52.0</td>\n",
       "      <td>-0.997401</td>\n",
       "      <td>0.994809</td>\n",
       "      <td>-127.0</td>\n",
       "      <td>3.0</td>\n",
       "      <td>1</td>\n",
       "      <td>0</td>\n",
       "      <td>1</td>\n",
       "    </tr>\n",
       "    <tr>\n",
       "      <th>2</th>\n",
       "      <td>-40.0</td>\n",
       "      <td>33.0</td>\n",
       "      <td>-0.175586</td>\n",
       "      <td>0.030831</td>\n",
       "      <td>73.0</td>\n",
       "      <td>4.0</td>\n",
       "      <td>1</td>\n",
       "      <td>1</td>\n",
       "      <td>1</td>\n",
       "    </tr>\n",
       "    <tr>\n",
       "      <th>3</th>\n",
       "      <td>-43.0</td>\n",
       "      <td>58.0</td>\n",
       "      <td>-0.036004</td>\n",
       "      <td>0.001296</td>\n",
       "      <td>101.0</td>\n",
       "      <td>5.0</td>\n",
       "      <td>1</td>\n",
       "      <td>2</td>\n",
       "      <td>1</td>\n",
       "    </tr>\n",
       "    <tr>\n",
       "      <th>4</th>\n",
       "      <td>-98.0</td>\n",
       "      <td>127.0</td>\n",
       "      <td>-1.011068</td>\n",
       "      <td>1.022257</td>\n",
       "      <td>-31.0</td>\n",
       "      <td>12.0</td>\n",
       "      <td>4</td>\n",
       "      <td>0</td>\n",
       "      <td>0</td>\n",
       "    </tr>\n",
       "  </tbody>\n",
       "</table>\n",
       "</div>"
      ],
      "text/plain": [
       "   signal_min  signal_max  signal_mean   ...    id_measurement  phase  target\n",
       "0       -30.0        26.0    -0.194125   ...                 0      1       0\n",
       "1       -77.0        52.0    -0.997401   ...                 1      0       1\n",
       "2       -40.0        33.0    -0.175586   ...                 1      1       1\n",
       "3       -43.0        58.0    -0.036004   ...                 1      2       1\n",
       "4       -98.0       127.0    -1.011068   ...                 4      0       0\n",
       "\n",
       "[5 rows x 9 columns]"
      ]
     },
     "execution_count": 9,
     "metadata": {},
     "output_type": "execute_result"
    }
   ],
   "source": [
    "train_df = pd.merge(train_df, meta_train, on='signal_id')\n",
    "train_df.to_csv(\"train.csv\", index=False)\n",
    "train_df.head()"
   ]
  },
  {
   "cell_type": "code",
   "execution_count": 10,
   "metadata": {
    "_uuid": "ca9d60c914b203e3929d6998082efefd263e7407",
    "scrolled": true
   },
   "outputs": [
    {
     "name": "stdout",
     "output_type": "stream",
     "text": [
      "CPU times: user 8 ms, sys: 4 ms, total: 12 ms\n",
      "Wall time: 11.7 ms\n"
     ]
    }
   ],
   "source": [
    "%%time\n",
    "meta_test = pd.read_csv('../input/metadata_test.csv')"
   ]
  },
  {
   "cell_type": "code",
   "execution_count": 11,
   "metadata": {
    "_uuid": "1ca36dd4b8f3ba0d347d5e08ce67314b3b700d0a"
   },
   "outputs": [
    {
     "name": "stderr",
     "output_type": "stream",
     "text": [
      "100%|██████████| 337/337 [00:12<00:00, 26.09it/s]\n"
     ]
    },
    {
     "name": "stdout",
     "output_type": "stream",
     "text": [
      "CPU times: user 12min 2s, sys: 22.8 s, total: 12min 25s\n",
      "Wall time: 12min 26s\n"
     ]
    }
   ],
   "source": [
    "%%time\n",
    "test_df = pd.DataFrame()\n",
    "row_index = 0\n",
    "for i in range(10):\n",
    "    subset_test = pq.read_pandas('../input/test.parquet', columns=[str(i*2000 + j + 8712) for j in range(2000)]).to_pandas()\n",
    "    for j in range(2000):\n",
    "        subset_test_row = subset_test[str(i*2000 + j + 8712)]\n",
    "        test_df.loc[row_index, 'signal_min'] = np.mean(subset_test_row)\n",
    "        test_df.loc[row_index, 'signal_max'] = np.max(subset_test_row)\n",
    "        test_df.loc[row_index, 'signal_mean'] = np.mean(subset_test_row)\n",
    "        test_df.loc[row_index, 'signal_mean_sq'] = np.mean(subset_test_row)**2\n",
    "        test_df.loc[row_index, 'signal_max_min_diff'] = np.subtract(np.max(subset_test_row),np.min(subset_test_row))\n",
    "#         test_df.loc[row_index, 'signal_median'] = np.median(subset_test_row)\n",
    "#         test_df.loc[row_index, 'signal_ptp'] = np.ptp(subset_test_row)\n",
    "        test_df.loc[row_index, 'signal_id'] = i*2000 + j + 8712\n",
    "        row_index += 1\n",
    "subset_test = pq.read_pandas('../input/test.parquet', columns=[str(i + 28712) for i in range(337)]).to_pandas()\n",
    "for i in tqdm(range(337)):\n",
    "    subset_test_row = subset_test[str(i + 28712)]\n",
    "    test_df.loc[row_index, 'signal_min'] = np.min(subset_test_row)\n",
    "    test_df.loc[row_index, 'signal_max'] = np.max(subset_test_row)\n",
    "    test_df.loc[row_index, 'signal_mean'] = np.mean(subset_test_row)\n",
    "    test_df.loc[row_index, 'signal_mean_sq'] = np.mean(subset_test_row)**2\n",
    "    test_df.loc[row_index, 'signal_max_min_diff'] = np.subtract(np.max(subset_test_row),np.min(subset_test_row))\n",
    "#     test_df.loc[row_index, 'signal_median'] = np.median(subset_test_row)\n",
    "#     test_df.loc[row_index, 'signal_ptp'] = np.ptp(subset_test_row)\n",
    "    test_df.loc[row_index, 'signal_id'] = i + 28712\n",
    "    row_index += 1\n",
    "test_df = pd.merge(test_df, meta_test, on='signal_id')\n",
    "test_df.to_csv(\"test.csv\", index=False)\n",
    "test_df.head()"
   ]
  },
  {
   "cell_type": "code",
   "execution_count": 12,
   "metadata": {
    "_uuid": "20cd0b13f521743a115f34231b4d7fd032a5439f"
   },
   "outputs": [
    {
     "data": {
      "text/html": [
       "<div>\n",
       "<style scoped>\n",
       "    .dataframe tbody tr th:only-of-type {\n",
       "        vertical-align: middle;\n",
       "    }\n",
       "\n",
       "    .dataframe tbody tr th {\n",
       "        vertical-align: top;\n",
       "    }\n",
       "\n",
       "    .dataframe thead th {\n",
       "        text-align: right;\n",
       "    }\n",
       "</style>\n",
       "<table border=\"1\" class=\"dataframe\">\n",
       "  <thead>\n",
       "    <tr style=\"text-align: right;\">\n",
       "      <th></th>\n",
       "      <th>signal_min</th>\n",
       "      <th>signal_max</th>\n",
       "      <th>signal_mean</th>\n",
       "      <th>signal_mean_sq</th>\n",
       "      <th>signal_max_min_diff</th>\n",
       "      <th>signal_id</th>\n",
       "      <th>id_measurement</th>\n",
       "      <th>phase</th>\n",
       "    </tr>\n",
       "  </thead>\n",
       "  <tbody>\n",
       "    <tr>\n",
       "      <th>0</th>\n",
       "      <td>-1.007639</td>\n",
       "      <td>28.0</td>\n",
       "      <td>-1.007639</td>\n",
       "      <td>1.015336</td>\n",
       "      <td>74.0</td>\n",
       "      <td>8712.0</td>\n",
       "      <td>2904</td>\n",
       "      <td>0</td>\n",
       "    </tr>\n",
       "    <tr>\n",
       "      <th>1</th>\n",
       "      <td>-0.178762</td>\n",
       "      <td>30.0</td>\n",
       "      <td>-0.178762</td>\n",
       "      <td>0.031956</td>\n",
       "      <td>55.0</td>\n",
       "      <td>8713.0</td>\n",
       "      <td>2904</td>\n",
       "      <td>1</td>\n",
       "    </tr>\n",
       "    <tr>\n",
       "      <th>2</th>\n",
       "      <td>-0.031567</td>\n",
       "      <td>31.0</td>\n",
       "      <td>-0.031567</td>\n",
       "      <td>0.000997</td>\n",
       "      <td>58.0</td>\n",
       "      <td>8714.0</td>\n",
       "      <td>2904</td>\n",
       "      <td>2</td>\n",
       "    </tr>\n",
       "    <tr>\n",
       "      <th>3</th>\n",
       "      <td>-0.021024</td>\n",
       "      <td>28.0</td>\n",
       "      <td>-0.021024</td>\n",
       "      <td>0.000442</td>\n",
       "      <td>57.0</td>\n",
       "      <td>8715.0</td>\n",
       "      <td>2905</td>\n",
       "      <td>0</td>\n",
       "    </tr>\n",
       "    <tr>\n",
       "      <th>4</th>\n",
       "      <td>-1.479971</td>\n",
       "      <td>29.0</td>\n",
       "      <td>-1.479971</td>\n",
       "      <td>2.190315</td>\n",
       "      <td>64.0</td>\n",
       "      <td>8716.0</td>\n",
       "      <td>2905</td>\n",
       "      <td>1</td>\n",
       "    </tr>\n",
       "  </tbody>\n",
       "</table>\n",
       "</div>"
      ],
      "text/plain": [
       "   signal_min  signal_max  signal_mean  ...    signal_id  id_measurement  phase\n",
       "0   -1.007639        28.0    -1.007639  ...       8712.0            2904      0\n",
       "1   -0.178762        30.0    -0.178762  ...       8713.0            2904      1\n",
       "2   -0.031567        31.0    -0.031567  ...       8714.0            2904      2\n",
       "3   -0.021024        28.0    -0.021024  ...       8715.0            2905      0\n",
       "4   -1.479971        29.0    -1.479971  ...       8716.0            2905      1\n",
       "\n",
       "[5 rows x 8 columns]"
      ]
     },
     "execution_count": 12,
     "metadata": {},
     "output_type": "execute_result"
    }
   ],
   "source": [
    "test_df.head()"
   ]
  },
  {
   "cell_type": "code",
   "execution_count": 13,
   "metadata": {
    "_uuid": "bee2c17400198574ce09289b653da72902ea3be3"
   },
   "outputs": [],
   "source": []
  }
 ],
 "metadata": {
  "kernelspec": {
   "display_name": "Python 3",
   "language": "python",
   "name": "python3"
  },
  "language_info": {
   "codemirror_mode": {
    "name": "ipython",
    "version": 3
   },
   "file_extension": ".py",
   "mimetype": "text/x-python",
   "name": "python",
   "nbconvert_exporter": "python",
   "pygments_lexer": "ipython3",
   "version": "3.6.0"
  }
 },
 "nbformat": 4,
 "nbformat_minor": 1
}
